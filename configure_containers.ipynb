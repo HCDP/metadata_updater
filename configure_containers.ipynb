{
 "cells": [
  {
   "cell_type": "code",
   "execution_count": null,
   "metadata": {},
   "outputs": [],
   "source": [
    "from tapipy.tapis import Tapis"
   ]
  },
  {
   "cell_type": "code",
   "execution_count": null,
   "metadata": {},
   "outputs": [],
   "source": [
    "base_url = \"https://tacc.tapis.io\"\r\n",
    "username = \"username\"\r\n",
    "password = \"password\"\r\n",
    "# tenant = \"public\""
   ]
  },
  {
   "cell_type": "code",
   "execution_count": null,
   "metadata": {},
   "outputs": [],
   "source": [
    "#Create python Tapis client for user\r\n",
    "t = Tapis(base_url= base_url, username = username, password = password)\r\n",
    "t.get_tokens()"
   ]
  },
  {
   "cell_type": "code",
   "execution_count": null,
   "metadata": {},
   "outputs": [],
   "source": [
    "actor_config = {\r\n",
    "    \"image\": \"mcleanj/hcdp_metadata_updater\",\r\n",
    "    \"name\": \"hcdp_metadata_update\",\r\n",
    "    \"description\": \"Updates HCDP metadata docs from passed source\",\r\n",
    "    \"default_environment\": {\r\n",
    "        \"TOKEN\": \"token\"\r\n",
    "    }\r\n",
    "}\r\n",
    "actor = t.actors.create_actor(**actor_config)\r\n",
    "actor_id = actor.id"
   ]
  },
  {
   "cell_type": "code",
   "execution_count": null,
   "metadata": {},
   "outputs": [],
   "source": [
    "execution = t.actors.send_message(actor_id = actor_id, request_body = { \"file\": \"https://raw.githubusercontent.com/ikewai/hawaii_wx_station_mgmt_container/main/Hawaii_Master_Station_Meta.csv\" })\r\n",
    "execution_id = execution.execution_id"
   ]
  },
  {
   "cell_type": "code",
   "execution_count": null,
   "metadata": {},
   "outputs": [],
   "source": [
    "execution_details = t.actors.get_execution(actor_id = actor_id, execution_id = execution_id)\r\n",
    "print(execution_details)"
   ]
  },
  {
   "cell_type": "code",
   "execution_count": null,
   "metadata": {},
   "outputs": [],
   "source": [
    "logs = t.actors.get_execution_logs(actor_id = actor_id, execution_id = execution_id)\r\n",
    "print(logs)"
   ]
  }
 ],
 "metadata": {
  "kernelspec": {
   "display_name": "Python 3.10.1 64-bit",
   "metadata": {
    "interpreter": {
     "hash": "2be5faf79681da6f2a61fdfdd5405d65d042280f7fba6178067603e3a2925119"
    }
   },
   "name": "python3"
  },
  "language_info": {
   "name": "python",
   "nbconvert_exporter": "python",
   "version": "3.10.1-final"
  },
  "orig_nbformat": 2
 },
 "nbformat": 4,
 "nbformat_minor": 2
}